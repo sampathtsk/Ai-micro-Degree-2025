{
  "cells": [
    {
      "cell_type": "markdown",
      "source": [
        "# Problem statment: To predict customer churn (whether a customer will leave the service or not) based on their historical usage patterns."
      ],
      "metadata": {
        "id": "5uHeOQeY-Hbv"
      },
      "id": "5uHeOQeY-Hbv"
    },
    {
      "cell_type": "markdown",
      "source": [
        "Aim:A telecom company wants to predict customer churn (whether a customer will leave the service or not) based on their historical usage patterns. You will first build a Single-Layer Perceptron (SLP) to classify customers, observe its limitations, and then improve performance using a Multi-Layer Perceptron (MLP).\n",
        "\n",
        "Requirements:Dataset:- https://github.com/ramar92/Deep-Learning-Datasets/blob/main/Telco-Customer-Churn.csv  \n",
        "\n",
        "•\tPython 3.x\n",
        "\n",
        "•\tNumPy\n",
        "\n",
        "•\tPandas\n",
        "\n",
        "•\tScikit-learn\n",
        "\n",
        "•\tTensorFlow/Keras\n",
        "\n",
        "•\tMatplotlib (optional for visualization)\n",
        "\n",
        "Procedure:Load the dataset from GitHub.\n",
        "\n",
        "•\tPreprocess the data (handle categorical variables, missing values).\n",
        "\n",
        "•\tSplit the data into training and test sets.\n",
        "\n",
        "•\tBuild and train an SLP (Single-Layer Perceptron).\n"
      ],
      "metadata": {
        "id": "SbfTyqkz-EAP"
      },
      "id": "SbfTyqkz-EAP"
    },
    {
      "cell_type": "code",
      "execution_count": 1,
      "id": "9fb87087-0245-4a87-a942-05f6783d2dac",
      "metadata": {
        "id": "9fb87087-0245-4a87-a942-05f6783d2dac"
      },
      "outputs": [],
      "source": [
        "|import pandas as pd\n",
        "import numpy as np\n",
        "from sklearn.model_selection import train_test_split\n",
        "from sklearn.preprocessing import LabelEncoder, StandardScaler\n",
        "from sklearn.metrics import classification_report, accuracy_score\n",
        "from tensorflow.keras.models import Sequential\n",
        "from tensorflow.keras.layers import Dense\n",
        "import matplotlib.pyplot as plt\n"
      ]
    },
    {
      "cell_type": "markdown",
      "source": [
        "Step 1: Loading dataset"
      ],
      "metadata": {
        "id": "ZBXaGrxQ-axv"
      },
      "id": "ZBXaGrxQ-axv"
    },
    {
      "cell_type": "code",
      "execution_count": 2,
      "id": "e477be5a-b646-4ebf-b280-8afe8e586fe0",
      "metadata": {
        "colab": {
          "base_uri": "https://localhost:8080/",
          "height": 342
        },
        "id": "e477be5a-b646-4ebf-b280-8afe8e586fe0",
        "outputId": "23f49fb6-1671-4d5c-bbc6-c22ccaa2c686"
      },
      "outputs": [
        {
          "output_type": "execute_result",
          "data": {
            "text/plain": [
              "   customerID  gender  SeniorCitizen Partner Dependents  tenure PhoneService  \\\n",
              "0  7590-VHVEG  Female              0     Yes         No       1           No   \n",
              "1  5575-GNVDE    Male              0      No         No      34          Yes   \n",
              "2  3668-QPYBK    Male              0      No         No       2          Yes   \n",
              "3  7795-CFOCW    Male              0      No         No      45           No   \n",
              "4  9237-HQITU  Female              0      No         No       2          Yes   \n",
              "\n",
              "      MultipleLines InternetService OnlineSecurity  ... DeviceProtection  \\\n",
              "0  No phone service             DSL             No  ...               No   \n",
              "1                No             DSL            Yes  ...              Yes   \n",
              "2                No             DSL            Yes  ...               No   \n",
              "3  No phone service             DSL            Yes  ...              Yes   \n",
              "4                No     Fiber optic             No  ...               No   \n",
              "\n",
              "  TechSupport StreamingTV StreamingMovies        Contract PaperlessBilling  \\\n",
              "0          No          No              No  Month-to-month              Yes   \n",
              "1          No          No              No        One year               No   \n",
              "2          No          No              No  Month-to-month              Yes   \n",
              "3         Yes          No              No        One year               No   \n",
              "4          No          No              No  Month-to-month              Yes   \n",
              "\n",
              "               PaymentMethod MonthlyCharges  TotalCharges Churn  \n",
              "0           Electronic check          29.85         29.85    No  \n",
              "1               Mailed check          56.95        1889.5    No  \n",
              "2               Mailed check          53.85        108.15   Yes  \n",
              "3  Bank transfer (automatic)          42.30       1840.75    No  \n",
              "4           Electronic check          70.70        151.65   Yes  \n",
              "\n",
              "[5 rows x 21 columns]"
            ],
            "text/html": [
              "\n",
              "  <div id=\"df-6b45db21-cbba-40a7-9aa7-5467a15e7e38\" class=\"colab-df-container\">\n",
              "    <div>\n",
              "<style scoped>\n",
              "    .dataframe tbody tr th:only-of-type {\n",
              "        vertical-align: middle;\n",
              "    }\n",
              "\n",
              "    .dataframe tbody tr th {\n",
              "        vertical-align: top;\n",
              "    }\n",
              "\n",
              "    .dataframe thead th {\n",
              "        text-align: right;\n",
              "    }\n",
              "</style>\n",
              "<table border=\"1\" class=\"dataframe\">\n",
              "  <thead>\n",
              "    <tr style=\"text-align: right;\">\n",
              "      <th></th>\n",
              "      <th>customerID</th>\n",
              "      <th>gender</th>\n",
              "      <th>SeniorCitizen</th>\n",
              "      <th>Partner</th>\n",
              "      <th>Dependents</th>\n",
              "      <th>tenure</th>\n",
              "      <th>PhoneService</th>\n",
              "      <th>MultipleLines</th>\n",
              "      <th>InternetService</th>\n",
              "      <th>OnlineSecurity</th>\n",
              "      <th>...</th>\n",
              "      <th>DeviceProtection</th>\n",
              "      <th>TechSupport</th>\n",
              "      <th>StreamingTV</th>\n",
              "      <th>StreamingMovies</th>\n",
              "      <th>Contract</th>\n",
              "      <th>PaperlessBilling</th>\n",
              "      <th>PaymentMethod</th>\n",
              "      <th>MonthlyCharges</th>\n",
              "      <th>TotalCharges</th>\n",
              "      <th>Churn</th>\n",
              "    </tr>\n",
              "  </thead>\n",
              "  <tbody>\n",
              "    <tr>\n",
              "      <th>0</th>\n",
              "      <td>7590-VHVEG</td>\n",
              "      <td>Female</td>\n",
              "      <td>0</td>\n",
              "      <td>Yes</td>\n",
              "      <td>No</td>\n",
              "      <td>1</td>\n",
              "      <td>No</td>\n",
              "      <td>No phone service</td>\n",
              "      <td>DSL</td>\n",
              "      <td>No</td>\n",
              "      <td>...</td>\n",
              "      <td>No</td>\n",
              "      <td>No</td>\n",
              "      <td>No</td>\n",
              "      <td>No</td>\n",
              "      <td>Month-to-month</td>\n",
              "      <td>Yes</td>\n",
              "      <td>Electronic check</td>\n",
              "      <td>29.85</td>\n",
              "      <td>29.85</td>\n",
              "      <td>No</td>\n",
              "    </tr>\n",
              "    <tr>\n",
              "      <th>1</th>\n",
              "      <td>5575-GNVDE</td>\n",
              "      <td>Male</td>\n",
              "      <td>0</td>\n",
              "      <td>No</td>\n",
              "      <td>No</td>\n",
              "      <td>34</td>\n",
              "      <td>Yes</td>\n",
              "      <td>No</td>\n",
              "      <td>DSL</td>\n",
              "      <td>Yes</td>\n",
              "      <td>...</td>\n",
              "      <td>Yes</td>\n",
              "      <td>No</td>\n",
              "      <td>No</td>\n",
              "      <td>No</td>\n",
              "      <td>One year</td>\n",
              "      <td>No</td>\n",
              "      <td>Mailed check</td>\n",
              "      <td>56.95</td>\n",
              "      <td>1889.5</td>\n",
              "      <td>No</td>\n",
              "    </tr>\n",
              "    <tr>\n",
              "      <th>2</th>\n",
              "      <td>3668-QPYBK</td>\n",
              "      <td>Male</td>\n",
              "      <td>0</td>\n",
              "      <td>No</td>\n",
              "      <td>No</td>\n",
              "      <td>2</td>\n",
              "      <td>Yes</td>\n",
              "      <td>No</td>\n",
              "      <td>DSL</td>\n",
              "      <td>Yes</td>\n",
              "      <td>...</td>\n",
              "      <td>No</td>\n",
              "      <td>No</td>\n",
              "      <td>No</td>\n",
              "      <td>No</td>\n",
              "      <td>Month-to-month</td>\n",
              "      <td>Yes</td>\n",
              "      <td>Mailed check</td>\n",
              "      <td>53.85</td>\n",
              "      <td>108.15</td>\n",
              "      <td>Yes</td>\n",
              "    </tr>\n",
              "    <tr>\n",
              "      <th>3</th>\n",
              "      <td>7795-CFOCW</td>\n",
              "      <td>Male</td>\n",
              "      <td>0</td>\n",
              "      <td>No</td>\n",
              "      <td>No</td>\n",
              "      <td>45</td>\n",
              "      <td>No</td>\n",
              "      <td>No phone service</td>\n",
              "      <td>DSL</td>\n",
              "      <td>Yes</td>\n",
              "      <td>...</td>\n",
              "      <td>Yes</td>\n",
              "      <td>Yes</td>\n",
              "      <td>No</td>\n",
              "      <td>No</td>\n",
              "      <td>One year</td>\n",
              "      <td>No</td>\n",
              "      <td>Bank transfer (automatic)</td>\n",
              "      <td>42.30</td>\n",
              "      <td>1840.75</td>\n",
              "      <td>No</td>\n",
              "    </tr>\n",
              "    <tr>\n",
              "      <th>4</th>\n",
              "      <td>9237-HQITU</td>\n",
              "      <td>Female</td>\n",
              "      <td>0</td>\n",
              "      <td>No</td>\n",
              "      <td>No</td>\n",
              "      <td>2</td>\n",
              "      <td>Yes</td>\n",
              "      <td>No</td>\n",
              "      <td>Fiber optic</td>\n",
              "      <td>No</td>\n",
              "      <td>...</td>\n",
              "      <td>No</td>\n",
              "      <td>No</td>\n",
              "      <td>No</td>\n",
              "      <td>No</td>\n",
              "      <td>Month-to-month</td>\n",
              "      <td>Yes</td>\n",
              "      <td>Electronic check</td>\n",
              "      <td>70.70</td>\n",
              "      <td>151.65</td>\n",
              "      <td>Yes</td>\n",
              "    </tr>\n",
              "  </tbody>\n",
              "</table>\n",
              "<p>5 rows × 21 columns</p>\n",
              "</div>\n",
              "    <div class=\"colab-df-buttons\">\n",
              "\n",
              "  <div class=\"colab-df-container\">\n",
              "    <button class=\"colab-df-convert\" onclick=\"convertToInteractive('df-6b45db21-cbba-40a7-9aa7-5467a15e7e38')\"\n",
              "            title=\"Convert this dataframe to an interactive table.\"\n",
              "            style=\"display:none;\">\n",
              "\n",
              "  <svg xmlns=\"http://www.w3.org/2000/svg\" height=\"24px\" viewBox=\"0 -960 960 960\">\n",
              "    <path d=\"M120-120v-720h720v720H120Zm60-500h600v-160H180v160Zm220 220h160v-160H400v160Zm0 220h160v-160H400v160ZM180-400h160v-160H180v160Zm440 0h160v-160H620v160ZM180-180h160v-160H180v160Zm440 0h160v-160H620v160Z\"/>\n",
              "  </svg>\n",
              "    </button>\n",
              "\n",
              "  <style>\n",
              "    .colab-df-container {\n",
              "      display:flex;\n",
              "      gap: 12px;\n",
              "    }\n",
              "\n",
              "    .colab-df-convert {\n",
              "      background-color: #E8F0FE;\n",
              "      border: none;\n",
              "      border-radius: 50%;\n",
              "      cursor: pointer;\n",
              "      display: none;\n",
              "      fill: #1967D2;\n",
              "      height: 32px;\n",
              "      padding: 0 0 0 0;\n",
              "      width: 32px;\n",
              "    }\n",
              "\n",
              "    .colab-df-convert:hover {\n",
              "      background-color: #E2EBFA;\n",
              "      box-shadow: 0px 1px 2px rgba(60, 64, 67, 0.3), 0px 1px 3px 1px rgba(60, 64, 67, 0.15);\n",
              "      fill: #174EA6;\n",
              "    }\n",
              "\n",
              "    .colab-df-buttons div {\n",
              "      margin-bottom: 4px;\n",
              "    }\n",
              "\n",
              "    [theme=dark] .colab-df-convert {\n",
              "      background-color: #3B4455;\n",
              "      fill: #D2E3FC;\n",
              "    }\n",
              "\n",
              "    [theme=dark] .colab-df-convert:hover {\n",
              "      background-color: #434B5C;\n",
              "      box-shadow: 0px 1px 3px 1px rgba(0, 0, 0, 0.15);\n",
              "      filter: drop-shadow(0px 1px 2px rgba(0, 0, 0, 0.3));\n",
              "      fill: #FFFFFF;\n",
              "    }\n",
              "  </style>\n",
              "\n",
              "    <script>\n",
              "      const buttonEl =\n",
              "        document.querySelector('#df-6b45db21-cbba-40a7-9aa7-5467a15e7e38 button.colab-df-convert');\n",
              "      buttonEl.style.display =\n",
              "        google.colab.kernel.accessAllowed ? 'block' : 'none';\n",
              "\n",
              "      async function convertToInteractive(key) {\n",
              "        const element = document.querySelector('#df-6b45db21-cbba-40a7-9aa7-5467a15e7e38');\n",
              "        const dataTable =\n",
              "          await google.colab.kernel.invokeFunction('convertToInteractive',\n",
              "                                                    [key], {});\n",
              "        if (!dataTable) return;\n",
              "\n",
              "        const docLinkHtml = 'Like what you see? Visit the ' +\n",
              "          '<a target=\"_blank\" href=https://colab.research.google.com/notebooks/data_table.ipynb>data table notebook</a>'\n",
              "          + ' to learn more about interactive tables.';\n",
              "        element.innerHTML = '';\n",
              "        dataTable['output_type'] = 'display_data';\n",
              "        await google.colab.output.renderOutput(dataTable, element);\n",
              "        const docLink = document.createElement('div');\n",
              "        docLink.innerHTML = docLinkHtml;\n",
              "        element.appendChild(docLink);\n",
              "      }\n",
              "    </script>\n",
              "  </div>\n",
              "\n",
              "\n",
              "    <div id=\"df-368f249f-7e42-4307-88a2-928626adab05\">\n",
              "      <button class=\"colab-df-quickchart\" onclick=\"quickchart('df-368f249f-7e42-4307-88a2-928626adab05')\"\n",
              "                title=\"Suggest charts\"\n",
              "                style=\"display:none;\">\n",
              "\n",
              "<svg xmlns=\"http://www.w3.org/2000/svg\" height=\"24px\"viewBox=\"0 0 24 24\"\n",
              "     width=\"24px\">\n",
              "    <g>\n",
              "        <path d=\"M19 3H5c-1.1 0-2 .9-2 2v14c0 1.1.9 2 2 2h14c1.1 0 2-.9 2-2V5c0-1.1-.9-2-2-2zM9 17H7v-7h2v7zm4 0h-2V7h2v10zm4 0h-2v-4h2v4z\"/>\n",
              "    </g>\n",
              "</svg>\n",
              "      </button>\n",
              "\n",
              "<style>\n",
              "  .colab-df-quickchart {\n",
              "      --bg-color: #E8F0FE;\n",
              "      --fill-color: #1967D2;\n",
              "      --hover-bg-color: #E2EBFA;\n",
              "      --hover-fill-color: #174EA6;\n",
              "      --disabled-fill-color: #AAA;\n",
              "      --disabled-bg-color: #DDD;\n",
              "  }\n",
              "\n",
              "  [theme=dark] .colab-df-quickchart {\n",
              "      --bg-color: #3B4455;\n",
              "      --fill-color: #D2E3FC;\n",
              "      --hover-bg-color: #434B5C;\n",
              "      --hover-fill-color: #FFFFFF;\n",
              "      --disabled-bg-color: #3B4455;\n",
              "      --disabled-fill-color: #666;\n",
              "  }\n",
              "\n",
              "  .colab-df-quickchart {\n",
              "    background-color: var(--bg-color);\n",
              "    border: none;\n",
              "    border-radius: 50%;\n",
              "    cursor: pointer;\n",
              "    display: none;\n",
              "    fill: var(--fill-color);\n",
              "    height: 32px;\n",
              "    padding: 0;\n",
              "    width: 32px;\n",
              "  }\n",
              "\n",
              "  .colab-df-quickchart:hover {\n",
              "    background-color: var(--hover-bg-color);\n",
              "    box-shadow: 0 1px 2px rgba(60, 64, 67, 0.3), 0 1px 3px 1px rgba(60, 64, 67, 0.15);\n",
              "    fill: var(--button-hover-fill-color);\n",
              "  }\n",
              "\n",
              "  .colab-df-quickchart-complete:disabled,\n",
              "  .colab-df-quickchart-complete:disabled:hover {\n",
              "    background-color: var(--disabled-bg-color);\n",
              "    fill: var(--disabled-fill-color);\n",
              "    box-shadow: none;\n",
              "  }\n",
              "\n",
              "  .colab-df-spinner {\n",
              "    border: 2px solid var(--fill-color);\n",
              "    border-color: transparent;\n",
              "    border-bottom-color: var(--fill-color);\n",
              "    animation:\n",
              "      spin 1s steps(1) infinite;\n",
              "  }\n",
              "\n",
              "  @keyframes spin {\n",
              "    0% {\n",
              "      border-color: transparent;\n",
              "      border-bottom-color: var(--fill-color);\n",
              "      border-left-color: var(--fill-color);\n",
              "    }\n",
              "    20% {\n",
              "      border-color: transparent;\n",
              "      border-left-color: var(--fill-color);\n",
              "      border-top-color: var(--fill-color);\n",
              "    }\n",
              "    30% {\n",
              "      border-color: transparent;\n",
              "      border-left-color: var(--fill-color);\n",
              "      border-top-color: var(--fill-color);\n",
              "      border-right-color: var(--fill-color);\n",
              "    }\n",
              "    40% {\n",
              "      border-color: transparent;\n",
              "      border-right-color: var(--fill-color);\n",
              "      border-top-color: var(--fill-color);\n",
              "    }\n",
              "    60% {\n",
              "      border-color: transparent;\n",
              "      border-right-color: var(--fill-color);\n",
              "    }\n",
              "    80% {\n",
              "      border-color: transparent;\n",
              "      border-right-color: var(--fill-color);\n",
              "      border-bottom-color: var(--fill-color);\n",
              "    }\n",
              "    90% {\n",
              "      border-color: transparent;\n",
              "      border-bottom-color: var(--fill-color);\n",
              "    }\n",
              "  }\n",
              "</style>\n",
              "\n",
              "      <script>\n",
              "        async function quickchart(key) {\n",
              "          const quickchartButtonEl =\n",
              "            document.querySelector('#' + key + ' button');\n",
              "          quickchartButtonEl.disabled = true;  // To prevent multiple clicks.\n",
              "          quickchartButtonEl.classList.add('colab-df-spinner');\n",
              "          try {\n",
              "            const charts = await google.colab.kernel.invokeFunction(\n",
              "                'suggestCharts', [key], {});\n",
              "          } catch (error) {\n",
              "            console.error('Error during call to suggestCharts:', error);\n",
              "          }\n",
              "          quickchartButtonEl.classList.remove('colab-df-spinner');\n",
              "          quickchartButtonEl.classList.add('colab-df-quickchart-complete');\n",
              "        }\n",
              "        (() => {\n",
              "          let quickchartButtonEl =\n",
              "            document.querySelector('#df-368f249f-7e42-4307-88a2-928626adab05 button');\n",
              "          quickchartButtonEl.style.display =\n",
              "            google.colab.kernel.accessAllowed ? 'block' : 'none';\n",
              "        })();\n",
              "      </script>\n",
              "    </div>\n",
              "\n",
              "    </div>\n",
              "  </div>\n"
            ],
            "application/vnd.google.colaboratory.intrinsic+json": {
              "type": "dataframe",
              "variable_name": "df"
            }
          },
          "metadata": {},
          "execution_count": 2
        }
      ],
      "source": [
        "#  Load Dataset\n",
        "url = \"https://raw.githubusercontent.com/ramar92/Deep-Learning-Datasets/refs/heads/main/Telco-Customer-Churn.csv\"\n",
        "df = pd.read_csv(url)\n",
        "df.head()\n"
      ]
    },
    {
      "cell_type": "markdown",
      "source": [
        "step 2 data cleaning"
      ],
      "metadata": {
        "id": "BW6lbiJx-vLm"
      },
      "id": "BW6lbiJx-vLm"
    },
    {
      "cell_type": "code",
      "execution_count": 3,
      "id": "e0854876-b675-4746-bbca-b9834704b82a",
      "metadata": {
        "id": "e0854876-b675-4746-bbca-b9834704b82a"
      },
      "outputs": [],
      "source": [
        "# data cleaning\n",
        "df.dropna(inplace=True)  # drop missing values\n",
        "df.drop('customerID', axis=1, inplace=True)\n",
        "df['TotalCharges'] = pd.to_numeric(df['TotalCharges'], errors='coerce')\n",
        "df.dropna(inplace=True)\n"
      ]
    },
    {
      "cell_type": "markdown",
      "source": [
        "step 3 Encoding Categorical Features"
      ],
      "metadata": {
        "id": "PGWAs2ok-7Qu"
      },
      "id": "PGWAs2ok-7Qu"
    },
    {
      "cell_type": "code",
      "execution_count": 4,
      "id": "1f534522-b42b-4133-bab2-0b14ff171603",
      "metadata": {
        "id": "1f534522-b42b-4133-bab2-0b14ff171603"
      },
      "outputs": [],
      "source": [
        "# Encoding Categorical Features\n",
        "for column in df.select_dtypes(include=['object']).columns:\n",
        "    if column != 'Churn':\n",
        "        df[column] = LabelEncoder().fit_transform(df[column])\n",
        "\n",
        "df['Churn'] = df['Churn'].map({'No': 0, 'Yes': 1})\n"
      ]
    },
    {
      "cell_type": "markdown",
      "source": [
        "step 4 Feature Scaling and splitting"
      ],
      "metadata": {
        "id": "0Pfh-e5D_IhO"
      },
      "id": "0Pfh-e5D_IhO"
    },
    {
      "cell_type": "code",
      "execution_count": 5,
      "id": "6363e93b-4f9c-4c04-be0c-95d29cfdb394",
      "metadata": {
        "id": "6363e93b-4f9c-4c04-be0c-95d29cfdb394"
      },
      "outputs": [],
      "source": [
        "# Feature Scaling and Splitting\n",
        "X = df.drop('Churn', axis=1)\n",
        "y = df['Churn']\n",
        "\n",
        "scaler = StandardScaler()\n",
        "X_scaled = scaler.fit_transform(X)\n",
        "\n",
        "X_train, X_test, y_train, y_test = train_test_split(X_scaled, y, test_size=0.2, random_state=42)\n"
      ]
    },
    {
      "cell_type": "markdown",
      "source": [
        "Step 5 Build and Train Single-Layer Perceptron (SLP)"
      ],
      "metadata": {
        "id": "ATnF0oE9_S6u"
      },
      "id": "ATnF0oE9_S6u"
    },
    {
      "cell_type": "code",
      "execution_count": 6,
      "id": "a9339582-fa92-4515-bfb7-8309204791ed",
      "metadata": {
        "colab": {
          "base_uri": "https://localhost:8080/"
        },
        "id": "a9339582-fa92-4515-bfb7-8309204791ed",
        "outputId": "e18de0d8-b1b3-4084-b0b6-9534564413d5"
      },
      "outputs": [
        {
          "output_type": "stream",
          "name": "stderr",
          "text": [
            "/usr/local/lib/python3.11/dist-packages/keras/src/layers/core/dense.py:87: UserWarning: Do not pass an `input_shape`/`input_dim` argument to a layer. When using Sequential models, prefer using an `Input(shape)` object as the first layer in the model instead.\n",
            "  super().__init__(activity_regularizer=activity_regularizer, **kwargs)\n"
          ]
        }
      ],
      "source": [
        "# Build and Train Single-Layer Perceptron (SLP)\n",
        "model_slp = Sequential()\n",
        "model_slp.add(Dense(1, input_dim=X_train.shape[1], activation='sigmoid'))\n",
        "\n",
        "model_slp.compile(loss='binary_crossentropy', optimizer='adam', metrics=['accuracy'])\n",
        "history_slp = model_slp.fit(X_train, y_train, epochs=50, batch_size=32, verbose=0, validation_split=0.1)\n"
      ]
    },
    {
      "cell_type": "markdown",
      "source": [
        "step 6 Evaluate SLP"
      ],
      "metadata": {
        "id": "RHcGJiyR_kRH"
      },
      "id": "RHcGJiyR_kRH"
    },
    {
      "cell_type": "code",
      "execution_count": 7,
      "id": "d41661a2-8b5e-4c43-b61b-79d9bb15715b",
      "metadata": {
        "colab": {
          "base_uri": "https://localhost:8080/"
        },
        "id": "d41661a2-8b5e-4c43-b61b-79d9bb15715b",
        "outputId": "986a4f49-d1fe-465d-adab-4a7c95e37a97"
      },
      "outputs": [
        {
          "output_type": "stream",
          "name": "stdout",
          "text": [
            "\n",
            "SLP Accuracy:\n",
            "\u001b[1m44/44\u001b[0m \u001b[32m━━━━━━━━━━━━━━━━━━━━\u001b[0m\u001b[37m\u001b[0m \u001b[1m0s\u001b[0m 2ms/step\n",
            "0.7896233120113717\n",
            "              precision    recall  f1-score   support\n",
            "\n",
            "           0       0.83      0.90      0.86      1033\n",
            "           1       0.63      0.50      0.56       374\n",
            "\n",
            "    accuracy                           0.79      1407\n",
            "   macro avg       0.73      0.70      0.71      1407\n",
            "weighted avg       0.78      0.79      0.78      1407\n",
            "\n"
          ]
        }
      ],
      "source": [
        "#  Evaluate SLP\n",
        "print(\"\\nSLP Accuracy:\")\n",
        "slp_preds = (model_slp.predict(X_test) > 0.5).astype(\"int32\")\n",
        "print(accuracy_score(y_test, slp_preds))\n",
        "print(classification_report(y_test, slp_preds))\n"
      ]
    },
    {
      "cell_type": "markdown",
      "source": [
        "step 7 Build and Train Multi-Layer Perceptron (MLP)"
      ],
      "metadata": {
        "id": "iGVGDRQ2_tfe"
      },
      "id": "iGVGDRQ2_tfe"
    },
    {
      "cell_type": "code",
      "execution_count": 8,
      "id": "3f24bd0e-613d-4d0f-b960-fa7c7a9adfaf",
      "metadata": {
        "colab": {
          "base_uri": "https://localhost:8080/"
        },
        "id": "3f24bd0e-613d-4d0f-b960-fa7c7a9adfaf",
        "outputId": "c0175bbe-623c-4067-d5ab-af1e9ea4c7eb"
      },
      "outputs": [
        {
          "output_type": "stream",
          "name": "stderr",
          "text": [
            "/usr/local/lib/python3.11/dist-packages/keras/src/layers/core/dense.py:87: UserWarning: Do not pass an `input_shape`/`input_dim` argument to a layer. When using Sequential models, prefer using an `Input(shape)` object as the first layer in the model instead.\n",
            "  super().__init__(activity_regularizer=activity_regularizer, **kwargs)\n"
          ]
        }
      ],
      "source": [
        "# Build and Train Multi-Layer Perceptron (MLP)\n",
        "model_mlp = Sequential()\n",
        "model_mlp.add(Dense(32, input_dim=X_train.shape[1], activation='relu'))\n",
        "model_mlp.add(Dense(16, activation='relu'))\n",
        "model_mlp.add(Dense(1, activation='sigmoid'))\n",
        "\n",
        "model_mlp.compile(loss='binary_crossentropy', optimizer='adam', metrics=['accuracy'])\n",
        "history_mlp = model_mlp.fit(X_train, y_train, epochs=50, batch_size=32, verbose=0, validation_split=0.1)\n"
      ]
    },
    {
      "cell_type": "markdown",
      "source": [
        "step 8 Evaluate MLp"
      ],
      "metadata": {
        "id": "8lkxnO7B_-Tu"
      },
      "id": "8lkxnO7B_-Tu"
    },
    {
      "cell_type": "code",
      "execution_count": 9,
      "id": "e035f89e-a61b-4367-acb9-567b3045780f",
      "metadata": {
        "colab": {
          "base_uri": "https://localhost:8080/"
        },
        "id": "e035f89e-a61b-4367-acb9-567b3045780f",
        "outputId": "b6b435f3-077a-4757-cfc7-e192749eb43c"
      },
      "outputs": [
        {
          "output_type": "stream",
          "name": "stdout",
          "text": [
            "\n",
            "MLP Accuracy:\n",
            "\u001b[1m44/44\u001b[0m \u001b[32m━━━━━━━━━━━━━━━━━━━━\u001b[0m\u001b[37m\u001b[0m \u001b[1m0s\u001b[0m 2ms/step\n",
            "0.7818052594171997\n",
            "              precision    recall  f1-score   support\n",
            "\n",
            "           0       0.83      0.89      0.86      1033\n",
            "           1       0.61      0.49      0.55       374\n",
            "\n",
            "    accuracy                           0.78      1407\n",
            "   macro avg       0.72      0.69      0.70      1407\n",
            "weighted avg       0.77      0.78      0.77      1407\n",
            "\n"
          ]
        }
      ],
      "source": [
        "#  Evaluate MLP\n",
        "print(\"\\nMLP Accuracy:\")\n",
        "mlp_preds = (model_mlp.predict(X_test) > 0.5).astype(\"int32\")\n",
        "print(accuracy_score(y_test, mlp_preds))\n",
        "print(classification_report(y_test, mlp_preds))\n"
      ]
    },
    {
      "cell_type": "markdown",
      "source": [
        "step 9 Compare Validation Accuracy"
      ],
      "metadata": {
        "id": "i2xqG9SVAH5G"
      },
      "id": "i2xqG9SVAH5G"
    },
    {
      "cell_type": "code",
      "execution_count": 10,
      "id": "69e85acd-9cb7-4bdd-b2a8-7b9d8316ed96",
      "metadata": {
        "colab": {
          "base_uri": "https://localhost:8080/",
          "height": 472
        },
        "id": "69e85acd-9cb7-4bdd-b2a8-7b9d8316ed96",
        "outputId": "de94ff7b-8ae9-4732-bf24-fc22ab246627"
      },
      "outputs": [
        {
          "output_type": "display_data",
          "data": {
            "text/plain": [
              "<Figure size 640x480 with 1 Axes>"
            ],
            "image/png": "[encoded data removed]"
          },
          "metadata": {}
        }
      ],
      "source": [
        "# Compare Validation Accuracy\n",
        "plt.plot(history_slp.history['val_accuracy'], label='SLP Validation Accuracy')\n",
        "plt.plot(history_mlp.history['val_accuracy'], label='MLP Validation Accuracy')\n",
        "plt.title('Model Comparison')\n",
        "plt.xlabel('Epochs')\n",
        "plt.ylabel('Validation Accuracy')\n",
        "plt.legend()\n",
        "plt.grid(True)\n",
        "plt.show()\n"
      ]
    },
    {
      "cell_type": "code",
      "execution_count": 10,
      "id": "e74e1f90-520a-4426-a164-f5838019432d",
      "metadata": {
        "id": "e74e1f90-520a-4426-a164-f5838019432d"
      },
      "outputs": [],
      "source": []
    }
  ],
  "metadata": {
    "kernelspec": {
      "display_name": "Python [conda env:base] *",
      "language": "python",
      "name": "conda-base-py"
    },
    "language_info": {
      "codemirror_mode": {
        "name": "ipython",
        "version": 3
      },
      "file_extension": ".py",
      "mimetype": "text/x-python",
      "name": "python",
      "nbconvert_exporter": "python",
      "pygments_lexer": "ipython3",
      "version": "3.12.7"
    },
    "colab": {
      "provenance": []
    }
  },
  "nbformat": 4,
  "nbformat_minor": 5
}